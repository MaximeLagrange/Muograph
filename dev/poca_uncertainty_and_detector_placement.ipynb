{
 "cells": [
  {
   "cell_type": "code",
   "execution_count": 1,
   "id": "4d2470cb",
   "metadata": {},
   "outputs": [],
   "source": [
    "# Usual suspect\n",
    "import numpy as np\n",
    "import pandas as pd\n",
    "import matplotlib.pyplot as plt\n",
    "import torch\n",
    "import sys \n",
    "sys.path.insert(1, '../muograph/')\n",
    "\n",
    "from typing import List\n",
    "\n",
    "def mean_list(vox_list:List)->float:\n",
    "    '''\n",
    "    return the mean of the input list\n",
    "    '''\n",
    "    return np.mean(vox_list)\n",
    "\n",
    "def median_list(vox_list:List, quartile:int)->float:\n",
    "    '''\n",
    "    Returns the quartile of the input list.\n",
    "    Quartile:int must respect 0 < quartile < 100\n",
    "    '''\n",
    "    return np.percentile(vox_list,quartile)\n",
    "\n",
    "def quartile_list(vox_list:List, quartile:int)->float:\n",
    "    '''\n",
    "    Returns the quartile of the input list.\n",
    "    Quartile:int must respect 0 < quartile < 100\n",
    "    '''\n",
    "    return np.percentile(vox_list,quartile)\n",
    "\n",
    "def rms_list(vox_list:List)->float:\n",
    "    '''\n",
    "    Return the RMS of the input list.\n",
    "    '''\n",
    "    return np.sqrt(np.sum(np.array(vox_list)**2))"
   ]
  },
  {
   "cell_type": "markdown",
   "id": "ee75bb37",
   "metadata": {},
   "source": [
    "# Detector z placement and POCA point uncertainty\n",
    "\n",
    "Given a MST setup with 3 upper and lower detection planes (6 total), what is the panels z placement which grants the less error on POCA points position?\n",
    "\n",
    "More spceificaly, given a fixed position of the external planes, what is the optimal placement for the central one.\n",
    "\n",
    "## Scenario A\n",
    "\n",
    "Scenario A detector placement is presented on the figure below, with $\\epsilon = 30 \\text{cm}$. The two bottom detectors are separated by $5 \\text{mm}$.\n",
    "\n",
    "![alternative text](../images/Scenario_A_z_placement.png)\n"
   ]
  },
  {
   "cell_type": "code",
   "execution_count": 6,
   "id": "127737d1",
   "metadata": {},
   "outputs": [
    {
     "name": "stdout",
     "output_type": "stream",
     "text": [
      "\n",
      "Tracking in progress\n"
     ]
    },
    {
     "data": {
      "text/html": [
       "\n",
       "    <div>\n",
       "        <style>\n",
       "            /* Turns off some styling */\n",
       "            progress {\n",
       "                /* gets rid of default border in Firefox and Opera. */\n",
       "                border: none;\n",
       "                /* Needs to be in here for Safari polyfill so background images work as expected. */\n",
       "                background-size: auto;\n",
       "            }\n",
       "            .progress-bar-interrupted, .progress-bar-interrupted::-webkit-progress-bar {\n",
       "                background: #F44336;\n",
       "            }\n",
       "        </style>\n",
       "      <progress value='123543' class='' max='123543', style='width:300px; height:20px; vertical-align: middle;'></progress>\n",
       "      100.00% [123543/123543 00:59<00:00]\n",
       "    </div>\n",
       "    "
      ],
      "text/plain": [
       "<IPython.core.display.HTML object>"
      ]
     },
     "metadata": {},
     "output_type": "display_data"
    },
    {
     "name": "stdout",
     "output_type": "stream",
     "text": [
      "Tracking done\n",
      "Scattering angles computation done\n",
      "\n",
      "Total # event =  123543\n",
      "# event after removing low theta events =  123543\n"
     ]
    },
    {
     "data": {
      "text/html": [
       "\n",
       "    <div>\n",
       "        <style>\n",
       "            /* Turns off some styling */\n",
       "            progress {\n",
       "                /* gets rid of default border in Firefox and Opera. */\n",
       "                border: none;\n",
       "                /* Needs to be in here for Safari polyfill so background images work as expected. */\n",
       "                background-size: auto;\n",
       "            }\n",
       "            .progress-bar-interrupted, .progress-bar-interrupted::-webkit-progress-bar {\n",
       "                background: #F44336;\n",
       "            }\n",
       "        </style>\n",
       "      <progress value='123543' class='' max='123543', style='width:300px; height:20px; vertical-align: middle;'></progress>\n",
       "      100.00% [123543/123543 00:07<00:00]\n",
       "    </div>\n",
       "    "
      ],
      "text/plain": [
       "<IPython.core.display.HTML object>"
      ]
     },
     "metadata": {},
     "output_type": "display_data"
    },
    {
     "name": "stdout",
     "output_type": "stream",
     "text": [
      "\n",
      "Assigning voxel to each POCA point:\n"
     ]
    },
    {
     "data": {
      "text/html": [
       "\n",
       "    <div>\n",
       "        <style>\n",
       "            /* Turns off some styling */\n",
       "            progress {\n",
       "                /* gets rid of default border in Firefox and Opera. */\n",
       "                border: none;\n",
       "                /* Needs to be in here for Safari polyfill so background images work as expected. */\n",
       "                background-size: auto;\n",
       "            }\n",
       "            .progress-bar-interrupted, .progress-bar-interrupted::-webkit-progress-bar {\n",
       "                background: #F44336;\n",
       "            }\n",
       "        </style>\n",
       "      <progress value='123543' class='' max='123543', style='width:300px; height:20px; vertical-align: middle;'></progress>\n",
       "      100.00% [123543/123543 00:34<00:00]\n",
       "    </div>\n",
       "    "
      ],
      "text/plain": [
       "<IPython.core.display.HTML object>"
      ]
     },
     "metadata": {},
     "output_type": "display_data"
    },
    {
     "name": "stdout",
     "output_type": "stream",
     "text": [
      "DONE\n"
     ]
    }
   ],
   "source": [
    "total_mask = true_poca.total_mask & rec_poca.total_mask\n",
    "with open(directory+'total_mask_scenario_A','wb') as f:\n",
    "    pickle.dump(total_mask,f)\n",
    "    \n",
    "# Rec POCA\n",
    "from tracking.Tracking import Tracking\n",
    "tracks = Tracking(hits=rec_hits[:,:,total_mask],voi=VOI,E=E[total_mask])\n",
    "\n",
    "from reconstruction.POCA import POCA\n",
    "rec_poca = POCA(tracks=tracks)"
   ]
  },
  {
   "cell_type": "code",
   "execution_count": 7,
   "id": "37b96494",
   "metadata": {},
   "outputs": [
    {
     "name": "stdout",
     "output_type": "stream",
     "text": [
      "\n",
      "Tracking in progress\n"
     ]
    },
    {
     "data": {
      "text/html": [
       "\n",
       "    <div>\n",
       "        <style>\n",
       "            /* Turns off some styling */\n",
       "            progress {\n",
       "                /* gets rid of default border in Firefox and Opera. */\n",
       "                border: none;\n",
       "                /* Needs to be in here for Safari polyfill so background images work as expected. */\n",
       "                background-size: auto;\n",
       "            }\n",
       "            .progress-bar-interrupted, .progress-bar-interrupted::-webkit-progress-bar {\n",
       "                background: #F44336;\n",
       "            }\n",
       "        </style>\n",
       "      <progress value='123543' class='' max='123543', style='width:300px; height:20px; vertical-align: middle;'></progress>\n",
       "      100.00% [123543/123543 01:01<00:00]\n",
       "    </div>\n",
       "    "
      ],
      "text/plain": [
       "<IPython.core.display.HTML object>"
      ]
     },
     "metadata": {},
     "output_type": "display_data"
    },
    {
     "name": "stdout",
     "output_type": "stream",
     "text": [
      "Tracking done\n",
      "Scattering angles computation done\n",
      "\n",
      "Total # event =  123543\n",
      "# event after removing low theta events =  123543\n"
     ]
    },
    {
     "data": {
      "text/html": [
       "\n",
       "    <div>\n",
       "        <style>\n",
       "            /* Turns off some styling */\n",
       "            progress {\n",
       "                /* gets rid of default border in Firefox and Opera. */\n",
       "                border: none;\n",
       "                /* Needs to be in here for Safari polyfill so background images work as expected. */\n",
       "                background-size: auto;\n",
       "            }\n",
       "            .progress-bar-interrupted, .progress-bar-interrupted::-webkit-progress-bar {\n",
       "                background: #F44336;\n",
       "            }\n",
       "        </style>\n",
       "      <progress value='123543' class='' max='123543', style='width:300px; height:20px; vertical-align: middle;'></progress>\n",
       "      100.00% [123543/123543 00:07<00:00]\n",
       "    </div>\n",
       "    "
      ],
      "text/plain": [
       "<IPython.core.display.HTML object>"
      ]
     },
     "metadata": {},
     "output_type": "display_data"
    },
    {
     "name": "stdout",
     "output_type": "stream",
     "text": [
      "\n",
      "Assigning voxel to each POCA point:\n"
     ]
    },
    {
     "data": {
      "text/html": [
       "\n",
       "    <div>\n",
       "        <style>\n",
       "            /* Turns off some styling */\n",
       "            progress {\n",
       "                /* gets rid of default border in Firefox and Opera. */\n",
       "                border: none;\n",
       "                /* Needs to be in here for Safari polyfill so background images work as expected. */\n",
       "                background-size: auto;\n",
       "            }\n",
       "            .progress-bar-interrupted, .progress-bar-interrupted::-webkit-progress-bar {\n",
       "                background: #F44336;\n",
       "            }\n",
       "        </style>\n",
       "      <progress value='123543' class='' max='123543', style='width:300px; height:20px; vertical-align: middle;'></progress>\n",
       "      100.00% [123543/123543 00:44<00:00]\n",
       "    </div>\n",
       "    "
      ],
      "text/plain": [
       "<IPython.core.display.HTML object>"
      ]
     },
     "metadata": {},
     "output_type": "display_data"
    },
    {
     "name": "stdout",
     "output_type": "stream",
     "text": [
      "DONE\n"
     ]
    }
   ],
   "source": [
    "# true POCA\n",
    "from tracking.Tracking import Tracking\n",
    "tracks = Tracking(hits=hits[:,:,total_mask],voi=VOI,E=E[total_mask])\n",
    "\n",
    "from reconstruction.POCA import POCA\n",
    "true_poca = POCA(tracks=tracks)"
   ]
  },
  {
   "cell_type": "code",
   "execution_count": 13,
   "id": "aa1330d2",
   "metadata": {},
   "outputs": [
    {
     "data": {
      "image/png": "[encoded data removed]",
      "text/plain": [
       "<Figure size 432x288 with 1 Axes>"
      ]
     },
     "metadata": {
      "needs_background": "light"
     },
     "output_type": "display_data"
    },
    {
     "data": {
      "image/png": "[encoded data removed]",
      "text/plain": [
       "<Figure size 432x288 with 1 Axes>"
      ]
     },
     "metadata": {
      "needs_background": "light"
     },
     "output_type": "display_data"
    },
    {
     "data": {
      "image/png": "[encoded data removed]",
      "text/plain": [
       "<Figure size 432x288 with 1 Axes>"
      ]
     },
     "metadata": {
      "needs_background": "light"
     },
     "output_type": "display_data"
    }
   ],
   "source": [
    "poca_error = true_poca.POCA_points[:]-rec_poca.POCA_points[:]\n",
    "with open(directory+'poca_error_scenario_A','wb') as f:\n",
    "    pickle.dump(poca_error,f)\n",
    "    \n",
    "with open(directory+'poca_error_scenario_A','rb') as f:\n",
    "    poca_error = pickle.load(poca_error)\n",
    "\n",
    "plt.hist(poca_error[:,0],bins=100)\n",
    "plt.show()\n",
    "\n",
    "plt.hist(poca_error[:,1],bins=100)\n",
    "plt.show()\n",
    "\n",
    "plt.hist(poca_error[:,2],bins=100)\n",
    "plt.show()"
   ]
  },
  {
   "cell_type": "markdown",
   "id": "8d666eea",
   "metadata": {},
   "source": [
    "## Scenario B\n",
    "\n",
    "Scenario A detector placement is presented on the figure below, with $\\epsilon = 30 \\text{cm}$. The two upper detectors are separated by $5 \\text{mm}$.\n",
    "\n",
    "![alternative text](../images/Scenario_B_z_placement.png)"
   ]
  },
  {
   "cell_type": "code",
   "execution_count": 14,
   "id": "bc19f504",
   "metadata": {},
   "outputs": [
    {
     "name": "stdout",
     "output_type": "stream",
     "text": [
      "\n",
      "Tracking in progress\n"
     ]
    },
    {
     "data": {
      "text/html": [
       "\n",
       "    <div>\n",
       "        <style>\n",
       "            /* Turns off some styling */\n",
       "            progress {\n",
       "                /* gets rid of default border in Firefox and Opera. */\n",
       "                border: none;\n",
       "                /* Needs to be in here for Safari polyfill so background images work as expected. */\n",
       "                background-size: auto;\n",
       "            }\n",
       "            .progress-bar-interrupted, .progress-bar-interrupted::-webkit-progress-bar {\n",
       "                background: #F44336;\n",
       "            }\n",
       "        </style>\n",
       "      <progress value='217319' class='' max='217319', style='width:300px; height:20px; vertical-align: middle;'></progress>\n",
       "      100.00% [217319/217319 01:42<00:00]\n",
       "    </div>\n",
       "    "
      ],
      "text/plain": [
       "<IPython.core.display.HTML object>"
      ]
     },
     "metadata": {},
     "output_type": "display_data"
    },
    {
     "name": "stdout",
     "output_type": "stream",
     "text": [
      "Tracking done\n",
      "Scattering angles computation done\n",
      "\n",
      "Total # event =  217319\n",
      "# event after removing low theta events =  217310\n"
     ]
    },
    {
     "data": {
      "text/html": [
       "\n",
       "    <div>\n",
       "        <style>\n",
       "            /* Turns off some styling */\n",
       "            progress {\n",
       "                /* gets rid of default border in Firefox and Opera. */\n",
       "                border: none;\n",
       "                /* Needs to be in here for Safari polyfill so background images work as expected. */\n",
       "                background-size: auto;\n",
       "            }\n",
       "            .progress-bar-interrupted, .progress-bar-interrupted::-webkit-progress-bar {\n",
       "                background: #F44336;\n",
       "            }\n",
       "        </style>\n",
       "      <progress value='217310' class='' max='217310', style='width:300px; height:20px; vertical-align: middle;'></progress>\n",
       "      100.00% [217310/217310 00:13<00:00]\n",
       "    </div>\n",
       "    "
      ],
      "text/plain": [
       "<IPython.core.display.HTML object>"
      ]
     },
     "metadata": {},
     "output_type": "display_data"
    },
    {
     "name": "stdout",
     "output_type": "stream",
     "text": [
      "\n",
      "Assigning voxel to each POCA point:\n"
     ]
    },
    {
     "data": {
      "text/html": [
       "\n",
       "    <div>\n",
       "        <style>\n",
       "            /* Turns off some styling */\n",
       "            progress {\n",
       "                /* gets rid of default border in Firefox and Opera. */\n",
       "                border: none;\n",
       "                /* Needs to be in here for Safari polyfill so background images work as expected. */\n",
       "                background-size: auto;\n",
       "            }\n",
       "            .progress-bar-interrupted, .progress-bar-interrupted::-webkit-progress-bar {\n",
       "                background: #F44336;\n",
       "            }\n",
       "        </style>\n",
       "      <progress value='133417' class='' max='133417', style='width:300px; height:20px; vertical-align: middle;'></progress>\n",
       "      100.00% [133417/133417 00:37<00:00]\n",
       "    </div>\n",
       "    "
      ],
      "text/plain": [
       "<IPython.core.display.HTML object>"
      ]
     },
     "metadata": {},
     "output_type": "display_data"
    },
    {
     "name": "stdout",
     "output_type": "stream",
     "text": [
      "DONE\n",
      "\n",
      "Tracking in progress\n"
     ]
    },
    {
     "data": {
      "text/html": [
       "\n",
       "    <div>\n",
       "        <style>\n",
       "            /* Turns off some styling */\n",
       "            progress {\n",
       "                /* gets rid of default border in Firefox and Opera. */\n",
       "                border: none;\n",
       "                /* Needs to be in here for Safari polyfill so background images work as expected. */\n",
       "                background-size: auto;\n",
       "            }\n",
       "            .progress-bar-interrupted, .progress-bar-interrupted::-webkit-progress-bar {\n",
       "                background: #F44336;\n",
       "            }\n",
       "        </style>\n",
       "      <progress value='217319' class='' max='217319', style='width:300px; height:20px; vertical-align: middle;'></progress>\n",
       "      100.00% [217319/217319 01:50<00:00]\n",
       "    </div>\n",
       "    "
      ],
      "text/plain": [
       "<IPython.core.display.HTML object>"
      ]
     },
     "metadata": {},
     "output_type": "display_data"
    },
    {
     "name": "stdout",
     "output_type": "stream",
     "text": [
      "Tracking done\n",
      "Scattering angles computation done\n",
      "\n",
      "Total # event =  217319\n",
      "# event after removing low theta events =  200879\n"
     ]
    },
    {
     "data": {
      "text/html": [
       "\n",
       "    <div>\n",
       "        <style>\n",
       "            /* Turns off some styling */\n",
       "            progress {\n",
       "                /* gets rid of default border in Firefox and Opera. */\n",
       "                border: none;\n",
       "                /* Needs to be in here for Safari polyfill so background images work as expected. */\n",
       "                background-size: auto;\n",
       "            }\n",
       "            .progress-bar-interrupted, .progress-bar-interrupted::-webkit-progress-bar {\n",
       "                background: #F44336;\n",
       "            }\n",
       "        </style>\n",
       "      <progress value='200879' class='' max='200879', style='width:300px; height:20px; vertical-align: middle;'></progress>\n",
       "      100.00% [200879/200879 00:29<00:00]\n",
       "    </div>\n",
       "    "
      ],
      "text/plain": [
       "<IPython.core.display.HTML object>"
      ]
     },
     "metadata": {},
     "output_type": "display_data"
    },
    {
     "name": "stdout",
     "output_type": "stream",
     "text": [
      "\n",
      "Assigning voxel to each POCA point:\n"
     ]
    },
    {
     "data": {
      "text/html": [
       "\n",
       "    <div>\n",
       "        <style>\n",
       "            /* Turns off some styling */\n",
       "            progress {\n",
       "                /* gets rid of default border in Firefox and Opera. */\n",
       "                border: none;\n",
       "                /* Needs to be in here for Safari polyfill so background images work as expected. */\n",
       "                background-size: auto;\n",
       "            }\n",
       "            .progress-bar-interrupted, .progress-bar-interrupted::-webkit-progress-bar {\n",
       "                background: #F44336;\n",
       "            }\n",
       "        </style>\n",
       "      <progress value='164651' class='' max='164651', style='width:300px; height:20px; vertical-align: middle;'></progress>\n",
       "      100.00% [164651/164651 01:09<00:00]\n",
       "    </div>\n",
       "    "
      ],
      "text/plain": [
       "<IPython.core.display.HTML object>"
      ]
     },
     "metadata": {},
     "output_type": "display_data"
    },
    {
     "name": "stdout",
     "output_type": "stream",
     "text": [
      "DONE\n"
     ]
    }
   ],
   "source": [
    "directory = '../data/poca_uncertainty_and_detector_z_placement/'\n",
    "\n",
    "from volume.Volume_Interest import VolumeInterest\n",
    "VOI = VolumeInterest(position = [0,0,1000],dimension=[1000,1000,600],voxel_width=20)\n",
    "\n",
    "# Load true hits\n",
    "from utils.read_file import hits_csv_to_tensor\n",
    "hits,E = hits_csv_to_tensor(filename='poca_uncertainty_and_detector_z_placement/scenario2_200k_events.csv')\n",
    "\n",
    "# Compute reconstructed hits based on resolution\n",
    "res = 2 #mm\n",
    "rec_hits = torch.ones_like(hits)\n",
    "rec_hits[:-1,:,:] = hits[:-1,:,:]+torch.normal(0,res,hits[:-1,:,:].size())\n",
    "rec_hits[-1] = hits[-1]\n",
    "\n",
    "import pickle\n",
    "with open(directory+'rec_hits_scenario_B','wb') as f:\n",
    "    pickle.dump(rec_hits,f)\n",
    "\n",
    "with open(directory+'rec_hits_scenario_B','rb') as f:\n",
    "    rec_hits = pickle.load(f)\n",
    "\n",
    "# Rec POCA\n",
    "from tracking.Tracking import Tracking\n",
    "tracks = Tracking(hits=rec_hits,voi=VOI,E=E)\n",
    "from reconstruction.POCA import POCA\n",
    "rec_poca = POCA(tracks=tracks)\n",
    "\n",
    "# True POCA\n",
    "from tracking.Tracking import Tracking\n",
    "tracks = Tracking(hits=hits,voi=VOI,E=E)\n",
    "from reconstruction.POCA import POCA\n",
    "true_poca = POCA(tracks=tracks)"
   ]
  },
  {
   "cell_type": "code",
   "execution_count": 15,
   "id": "14365af6",
   "metadata": {},
   "outputs": [],
   "source": [
    "total_mask = true_poca.total_mask & rec_poca.total_mask\n",
    "with open(directory+'total_mask_scenario_B','wb') as f:\n",
    "    pickle.dump(total_mask,f)\n",
    "    \n",
    "with open(directory+'total_mask_scenario_B','rb') as f:\n",
    "    total_mask = pickle.load(f)"
   ]
  },
  {
   "cell_type": "code",
   "execution_count": 16,
   "id": "7a4356d3",
   "metadata": {},
   "outputs": [
    {
     "name": "stdout",
     "output_type": "stream",
     "text": [
      "\n",
      "Tracking in progress\n"
     ]
    },
    {
     "data": {
      "text/html": [
       "\n",
       "    <div>\n",
       "        <style>\n",
       "            /* Turns off some styling */\n",
       "            progress {\n",
       "                /* gets rid of default border in Firefox and Opera. */\n",
       "                border: none;\n",
       "                /* Needs to be in here for Safari polyfill so background images work as expected. */\n",
       "                background-size: auto;\n",
       "            }\n",
       "            .progress-bar-interrupted, .progress-bar-interrupted::-webkit-progress-bar {\n",
       "                background: #F44336;\n",
       "            }\n",
       "        </style>\n",
       "      <progress value='116710' class='' max='116710', style='width:300px; height:20px; vertical-align: middle;'></progress>\n",
       "      100.00% [116710/116710 00:59<00:00]\n",
       "    </div>\n",
       "    "
      ],
      "text/plain": [
       "<IPython.core.display.HTML object>"
      ]
     },
     "metadata": {},
     "output_type": "display_data"
    },
    {
     "name": "stdout",
     "output_type": "stream",
     "text": [
      "Tracking done\n",
      "Scattering angles computation done\n",
      "\n",
      "Total # event =  116710\n",
      "# event after removing low theta events =  116710\n"
     ]
    },
    {
     "data": {
      "text/html": [
       "\n",
       "    <div>\n",
       "        <style>\n",
       "            /* Turns off some styling */\n",
       "            progress {\n",
       "                /* gets rid of default border in Firefox and Opera. */\n",
       "                border: none;\n",
       "                /* Needs to be in here for Safari polyfill so background images work as expected. */\n",
       "                background-size: auto;\n",
       "            }\n",
       "            .progress-bar-interrupted, .progress-bar-interrupted::-webkit-progress-bar {\n",
       "                background: #F44336;\n",
       "            }\n",
       "        </style>\n",
       "      <progress value='116710' class='' max='116710', style='width:300px; height:20px; vertical-align: middle;'></progress>\n",
       "      100.00% [116710/116710 00:07<00:00]\n",
       "    </div>\n",
       "    "
      ],
      "text/plain": [
       "<IPython.core.display.HTML object>"
      ]
     },
     "metadata": {},
     "output_type": "display_data"
    },
    {
     "name": "stdout",
     "output_type": "stream",
     "text": [
      "\n",
      "Assigning voxel to each POCA point:\n"
     ]
    },
    {
     "data": {
      "text/html": [
       "\n",
       "    <div>\n",
       "        <style>\n",
       "            /* Turns off some styling */\n",
       "            progress {\n",
       "                /* gets rid of default border in Firefox and Opera. */\n",
       "                border: none;\n",
       "                /* Needs to be in here for Safari polyfill so background images work as expected. */\n",
       "                background-size: auto;\n",
       "            }\n",
       "            .progress-bar-interrupted, .progress-bar-interrupted::-webkit-progress-bar {\n",
       "                background: #F44336;\n",
       "            }\n",
       "        </style>\n",
       "      <progress value='116710' class='' max='116710', style='width:300px; height:20px; vertical-align: middle;'></progress>\n",
       "      100.00% [116710/116710 00:44<00:00]\n",
       "    </div>\n",
       "    "
      ],
      "text/plain": [
       "<IPython.core.display.HTML object>"
      ]
     },
     "metadata": {},
     "output_type": "display_data"
    },
    {
     "name": "stdout",
     "output_type": "stream",
     "text": [
      "DONE\n",
      "\n",
      "Tracking in progress\n"
     ]
    },
    {
     "data": {
      "text/html": [
       "\n",
       "    <div>\n",
       "        <style>\n",
       "            /* Turns off some styling */\n",
       "            progress {\n",
       "                /* gets rid of default border in Firefox and Opera. */\n",
       "                border: none;\n",
       "                /* Needs to be in here for Safari polyfill so background images work as expected. */\n",
       "                background-size: auto;\n",
       "            }\n",
       "            .progress-bar-interrupted, .progress-bar-interrupted::-webkit-progress-bar {\n",
       "                background: #F44336;\n",
       "            }\n",
       "        </style>\n",
       "      <progress value='116710' class='' max='116710', style='width:300px; height:20px; vertical-align: middle;'></progress>\n",
       "      100.00% [116710/116710 01:06<00:00]\n",
       "    </div>\n",
       "    "
      ],
      "text/plain": [
       "<IPython.core.display.HTML object>"
      ]
     },
     "metadata": {},
     "output_type": "display_data"
    },
    {
     "name": "stdout",
     "output_type": "stream",
     "text": [
      "Tracking done\n",
      "Scattering angles computation done\n",
      "\n",
      "Total # event =  116710\n",
      "# event after removing low theta events =  116710\n"
     ]
    },
    {
     "data": {
      "text/html": [
       "\n",
       "    <div>\n",
       "        <style>\n",
       "            /* Turns off some styling */\n",
       "            progress {\n",
       "                /* gets rid of default border in Firefox and Opera. */\n",
       "                border: none;\n",
       "                /* Needs to be in here for Safari polyfill so background images work as expected. */\n",
       "                background-size: auto;\n",
       "            }\n",
       "            .progress-bar-interrupted, .progress-bar-interrupted::-webkit-progress-bar {\n",
       "                background: #F44336;\n",
       "            }\n",
       "        </style>\n",
       "      <progress value='116710' class='' max='116710', style='width:300px; height:20px; vertical-align: middle;'></progress>\n",
       "      100.00% [116710/116710 00:07<00:00]\n",
       "    </div>\n",
       "    "
      ],
      "text/plain": [
       "<IPython.core.display.HTML object>"
      ]
     },
     "metadata": {},
     "output_type": "display_data"
    },
    {
     "name": "stdout",
     "output_type": "stream",
     "text": [
      "\n",
      "Assigning voxel to each POCA point:\n"
     ]
    },
    {
     "data": {
      "text/html": [
       "\n",
       "    <div>\n",
       "        <style>\n",
       "            /* Turns off some styling */\n",
       "            progress {\n",
       "                /* gets rid of default border in Firefox and Opera. */\n",
       "                border: none;\n",
       "                /* Needs to be in here for Safari polyfill so background images work as expected. */\n",
       "                background-size: auto;\n",
       "            }\n",
       "            .progress-bar-interrupted, .progress-bar-interrupted::-webkit-progress-bar {\n",
       "                background: #F44336;\n",
       "            }\n",
       "        </style>\n",
       "      <progress value='116710' class='' max='116710', style='width:300px; height:20px; vertical-align: middle;'></progress>\n",
       "      100.00% [116710/116710 00:51<00:00]\n",
       "    </div>\n",
       "    "
      ],
      "text/plain": [
       "<IPython.core.display.HTML object>"
      ]
     },
     "metadata": {},
     "output_type": "display_data"
    },
    {
     "name": "stdout",
     "output_type": "stream",
     "text": [
      "DONE\n"
     ]
    }
   ],
   "source": [
    "# Rec POCA\n",
    "from tracking.Tracking import Tracking\n",
    "tracks = Tracking(hits=rec_hits[:,:,total_mask],voi=VOI,E=E[total_mask])\n",
    "\n",
    "from reconstruction.POCA import POCA\n",
    "rec_poca = POCA(tracks=tracks)\n",
    "\n",
    "# true POCA\n",
    "from tracking.Tracking import Tracking\n",
    "tracks = Tracking(hits=hits[:,:,total_mask],voi=VOI,E=E[total_mask])\n",
    "\n",
    "from reconstruction.POCA import POCA\n",
    "true_poca = POCA(tracks=tracks)"
   ]
  },
  {
   "cell_type": "code",
   "execution_count": 18,
   "id": "29bbfc5c",
   "metadata": {},
   "outputs": [
    {
     "data": {
      "image/png": "[encoded data removed]",
      "text/plain": [
       "<Figure size 432x288 with 1 Axes>"
      ]
     },
     "metadata": {
      "needs_background": "light"
     },
     "output_type": "display_data"
    },
    {
     "data": {
      "image/png": "[encoded data removed]",
      "text/plain": [
       "<Figure size 432x288 with 1 Axes>"
      ]
     },
     "metadata": {
      "needs_background": "light"
     },
     "output_type": "display_data"
    },
    {
     "data": {
      "image/png": "[encoded data removed]",
      "text/plain": [
       "<Figure size 432x288 with 1 Axes>"
      ]
     },
     "metadata": {
      "needs_background": "light"
     },
     "output_type": "display_data"
    }
   ],
   "source": [
    "poca_error = true_poca.POCA_points[:]-rec_poca.POCA_points[:]\n",
    "with open(directory+'poca_error_scenario_B','wb') as f:\n",
    "    pickle.dump(poca_error,f)\n",
    "    \n",
    "with open(directory+'poca_error_scenario_B','rb') as f:\n",
    "    poca_error = pickle.load(f)\n",
    "\n",
    "plt.hist(poca_error[:,0],bins=100)\n",
    "plt.show()\n",
    "\n",
    "plt.hist(poca_error[:,1],bins=100)\n",
    "plt.show()\n",
    "\n",
    "plt.hist(poca_error[:,2],bins=100)\n",
    "plt.show()"
   ]
  },
  {
   "cell_type": "markdown",
   "id": "2a27ce59",
   "metadata": {},
   "source": [
    "## Scenario C\n",
    "\n",
    "Scenario C detector placement is presented on the figure below, with $\\epsilon = 30 \\text{cm}$. The two upper detectors are separated by $5 \\text{mm}$.\n",
    "\n",
    "![alternative text](../images/Scenario_C_z_plaecment.png)"
   ]
  },
  {
   "cell_type": "code",
   "execution_count": 20,
   "id": "b4b151b2",
   "metadata": {},
   "outputs": [
    {
     "name": "stdout",
     "output_type": "stream",
     "text": [
      "\n",
      "Tracking in progress\n"
     ]
    },
    {
     "data": {
      "text/html": [
       "\n",
       "    <div>\n",
       "        <style>\n",
       "            /* Turns off some styling */\n",
       "            progress {\n",
       "                /* gets rid of default border in Firefox and Opera. */\n",
       "                border: none;\n",
       "                /* Needs to be in here for Safari polyfill so background images work as expected. */\n",
       "                background-size: auto;\n",
       "            }\n",
       "            .progress-bar-interrupted, .progress-bar-interrupted::-webkit-progress-bar {\n",
       "                background: #F44336;\n",
       "            }\n",
       "        </style>\n",
       "      <progress value='218501' class='' max='218501', style='width:300px; height:20px; vertical-align: middle;'></progress>\n",
       "      100.00% [218501/218501 01:40<00:00]\n",
       "    </div>\n",
       "    "
      ],
      "text/plain": [
       "<IPython.core.display.HTML object>"
      ]
     },
     "metadata": {},
     "output_type": "display_data"
    },
    {
     "name": "stdout",
     "output_type": "stream",
     "text": [
      "Tracking done\n",
      "Scattering angles computation done\n",
      "\n",
      "Total # event =  218501\n",
      "# event after removing low theta events =  218497\n"
     ]
    },
    {
     "data": {
      "text/html": [
       "\n",
       "    <div>\n",
       "        <style>\n",
       "            /* Turns off some styling */\n",
       "            progress {\n",
       "                /* gets rid of default border in Firefox and Opera. */\n",
       "                border: none;\n",
       "                /* Needs to be in here for Safari polyfill so background images work as expected. */\n",
       "                background-size: auto;\n",
       "            }\n",
       "            .progress-bar-interrupted, .progress-bar-interrupted::-webkit-progress-bar {\n",
       "                background: #F44336;\n",
       "            }\n",
       "        </style>\n",
       "      <progress value='218497' class='' max='218497', style='width:300px; height:20px; vertical-align: middle;'></progress>\n",
       "      100.00% [218497/218497 00:13<00:00]\n",
       "    </div>\n",
       "    "
      ],
      "text/plain": [
       "<IPython.core.display.HTML object>"
      ]
     },
     "metadata": {},
     "output_type": "display_data"
    },
    {
     "name": "stdout",
     "output_type": "stream",
     "text": [
      "\n",
      "Assigning voxel to each POCA point:\n"
     ]
    },
    {
     "data": {
      "text/html": [
       "\n",
       "    <div>\n",
       "        <style>\n",
       "            /* Turns off some styling */\n",
       "            progress {\n",
       "                /* gets rid of default border in Firefox and Opera. */\n",
       "                border: none;\n",
       "                /* Needs to be in here for Safari polyfill so background images work as expected. */\n",
       "                background-size: auto;\n",
       "            }\n",
       "            .progress-bar-interrupted, .progress-bar-interrupted::-webkit-progress-bar {\n",
       "                background: #F44336;\n",
       "            }\n",
       "        </style>\n",
       "      <progress value='137990' class='' max='137990', style='width:300px; height:20px; vertical-align: middle;'></progress>\n",
       "      100.00% [137990/137990 00:37<00:00]\n",
       "    </div>\n",
       "    "
      ],
      "text/plain": [
       "<IPython.core.display.HTML object>"
      ]
     },
     "metadata": {},
     "output_type": "display_data"
    },
    {
     "name": "stdout",
     "output_type": "stream",
     "text": [
      "DONE\n",
      "\n",
      "Tracking in progress\n"
     ]
    },
    {
     "name": "stderr",
     "output_type": "stream",
     "text": [
      "/home/geant/Desktop/MST_framework/Muograph/dev/../muograph/reconstruction/POCA.py:190: UserWarning: An output with one or more elements was resized since it had shape [137990, 3], which does not match the required output shape [137991, 3]. This behavior is deprecated, and in a future PyTorch release outputs will not be resized unless they have zero elements. You can explicitly reuse an out tensor t by resizing it, inplace, to zero elements with t.resize_(0). (Triggered internally at /opt/conda/conda-bld/pytorch_1670525495809/work/aten/src/ATen/native/Resize.cpp:17.)\n",
      "  torch.cat(indices_list,out=indices_tensor)\n"
     ]
    },
    {
     "data": {
      "text/html": [
       "\n",
       "    <div>\n",
       "        <style>\n",
       "            /* Turns off some styling */\n",
       "            progress {\n",
       "                /* gets rid of default border in Firefox and Opera. */\n",
       "                border: none;\n",
       "                /* Needs to be in here for Safari polyfill so background images work as expected. */\n",
       "                background-size: auto;\n",
       "            }\n",
       "            .progress-bar-interrupted, .progress-bar-interrupted::-webkit-progress-bar {\n",
       "                background: #F44336;\n",
       "            }\n",
       "        </style>\n",
       "      <progress value='218501' class='' max='218501', style='width:300px; height:20px; vertical-align: middle;'></progress>\n",
       "      100.00% [218501/218501 01:46<00:00]\n",
       "    </div>\n",
       "    "
      ],
      "text/plain": [
       "<IPython.core.display.HTML object>"
      ]
     },
     "metadata": {},
     "output_type": "display_data"
    },
    {
     "name": "stdout",
     "output_type": "stream",
     "text": [
      "Tracking done\n",
      "Scattering angles computation done\n",
      "\n",
      "Total # event =  218501\n",
      "# event after removing low theta events =  201743\n"
     ]
    },
    {
     "data": {
      "text/html": [
       "\n",
       "    <div>\n",
       "        <style>\n",
       "            /* Turns off some styling */\n",
       "            progress {\n",
       "                /* gets rid of default border in Firefox and Opera. */\n",
       "                border: none;\n",
       "                /* Needs to be in here for Safari polyfill so background images work as expected. */\n",
       "                background-size: auto;\n",
       "            }\n",
       "            .progress-bar-interrupted, .progress-bar-interrupted::-webkit-progress-bar {\n",
       "                background: #F44336;\n",
       "            }\n",
       "        </style>\n",
       "      <progress value='201743' class='' max='201743', style='width:300px; height:20px; vertical-align: middle;'></progress>\n",
       "      100.00% [201743/201743 00:29<00:00]\n",
       "    </div>\n",
       "    "
      ],
      "text/plain": [
       "<IPython.core.display.HTML object>"
      ]
     },
     "metadata": {},
     "output_type": "display_data"
    },
    {
     "name": "stdout",
     "output_type": "stream",
     "text": [
      "\n",
      "Assigning voxel to each POCA point:\n"
     ]
    },
    {
     "data": {
      "text/html": [
       "\n",
       "    <div>\n",
       "        <style>\n",
       "            /* Turns off some styling */\n",
       "            progress {\n",
       "                /* gets rid of default border in Firefox and Opera. */\n",
       "                border: none;\n",
       "                /* Needs to be in here for Safari polyfill so background images work as expected. */\n",
       "                background-size: auto;\n",
       "            }\n",
       "            .progress-bar-interrupted, .progress-bar-interrupted::-webkit-progress-bar {\n",
       "                background: #F44336;\n",
       "            }\n",
       "        </style>\n",
       "      <progress value='164770' class='' max='164770', style='width:300px; height:20px; vertical-align: middle;'></progress>\n",
       "      100.00% [164770/164770 01:00<00:00]\n",
       "    </div>\n",
       "    "
      ],
      "text/plain": [
       "<IPython.core.display.HTML object>"
      ]
     },
     "metadata": {},
     "output_type": "display_data"
    },
    {
     "name": "stdout",
     "output_type": "stream",
     "text": [
      "DONE\n"
     ]
    },
    {
     "name": "stderr",
     "output_type": "stream",
     "text": [
      "/home/geant/Desktop/MST_framework/Muograph/dev/../muograph/reconstruction/POCA.py:190: UserWarning: An output with one or more elements was resized since it had shape [164770, 3], which does not match the required output shape [164771, 3]. This behavior is deprecated, and in a future PyTorch release outputs will not be resized unless they have zero elements. You can explicitly reuse an out tensor t by resizing it, inplace, to zero elements with t.resize_(0). (Triggered internally at /opt/conda/conda-bld/pytorch_1670525495809/work/aten/src/ATen/native/Resize.cpp:17.)\n",
      "  torch.cat(indices_list,out=indices_tensor)\n"
     ]
    }
   ],
   "source": [
    "directory = '../data/poca_uncertainty_and_detector_z_placement/'\n",
    "\n",
    "from volume.Volume_Interest import VolumeInterest\n",
    "VOI = VolumeInterest(position = [0,0,1000],dimension=[1000,1000,600],voxel_width=20)\n",
    "\n",
    "# Load true hits\n",
    "from utils.read_file import hits_csv_to_tensor\n",
    "hits,E = hits_csv_to_tensor(filename='poca_uncertainty_and_detector_z_placement/scenario1_200k_events.csv')\n",
    "\n",
    "# Compute reconstructed hits based on resolution\n",
    "res = 2 #mm\n",
    "rec_hits = torch.ones_like(hits)\n",
    "rec_hits[:-1,:,:] = hits[:-1,:,:]+torch.normal(0,res,hits[:-1,:,:].size())\n",
    "rec_hits[-1] = hits[-1]\n",
    "\n",
    "import pickle\n",
    "with open(directory+'rec_hits_scenario_C','wb') as f:\n",
    "    pickle.dump(rec_hits,f)\n",
    "\n",
    "with open(directory+'rec_hits_scenario_C','rb') as f:\n",
    "    rec_hits = pickle.load(f)\n",
    "\n",
    "# Rec POCA\n",
    "from tracking.Tracking import Tracking\n",
    "tracks = Tracking(hits=rec_hits,voi=VOI,E=E)\n",
    "from reconstruction.POCA import POCA\n",
    "rec_poca = POCA(tracks=tracks)\n",
    "\n",
    "# True POCA\n",
    "from tracking.Tracking import Tracking\n",
    "tracks = Tracking(hits=hits,voi=VOI,E=E)\n",
    "from reconstruction.POCA import POCA\n",
    "true_poca = POCA(tracks=tracks)"
   ]
  },
  {
   "cell_type": "code",
   "execution_count": 21,
   "id": "b32ba352",
   "metadata": {},
   "outputs": [],
   "source": [
    "total_mask = true_poca.total_mask & rec_poca.total_mask\n",
    "with open(directory+'total_mask_scenario_C','wb') as f:\n",
    "    pickle.dump(total_mask,f)\n",
    "    \n",
    "with open(directory+'total_mask_scenario_C','rb') as f:\n",
    "    total_mask = pickle.load(f)"
   ]
  },
  {
   "cell_type": "code",
   "execution_count": 22,
   "id": "2d443676",
   "metadata": {},
   "outputs": [
    {
     "name": "stdout",
     "output_type": "stream",
     "text": [
      "\n",
      "Tracking in progress\n"
     ]
    },
    {
     "data": {
      "text/html": [
       "\n",
       "    <div>\n",
       "        <style>\n",
       "            /* Turns off some styling */\n",
       "            progress {\n",
       "                /* gets rid of default border in Firefox and Opera. */\n",
       "                border: none;\n",
       "                /* Needs to be in here for Safari polyfill so background images work as expected. */\n",
       "                background-size: auto;\n",
       "            }\n",
       "            .progress-bar-interrupted, .progress-bar-interrupted::-webkit-progress-bar {\n",
       "                background: #F44336;\n",
       "            }\n",
       "        </style>\n",
       "      <progress value='119400' class='' max='119400', style='width:300px; height:20px; vertical-align: middle;'></progress>\n",
       "      100.00% [119400/119400 00:55<00:00]\n",
       "    </div>\n",
       "    "
      ],
      "text/plain": [
       "<IPython.core.display.HTML object>"
      ]
     },
     "metadata": {},
     "output_type": "display_data"
    },
    {
     "name": "stdout",
     "output_type": "stream",
     "text": [
      "Tracking done\n",
      "Scattering angles computation done\n",
      "\n",
      "Total # event =  119400\n",
      "# event after removing low theta events =  119400\n"
     ]
    },
    {
     "data": {
      "text/html": [
       "\n",
       "    <div>\n",
       "        <style>\n",
       "            /* Turns off some styling */\n",
       "            progress {\n",
       "                /* gets rid of default border in Firefox and Opera. */\n",
       "                border: none;\n",
       "                /* Needs to be in here for Safari polyfill so background images work as expected. */\n",
       "                background-size: auto;\n",
       "            }\n",
       "            .progress-bar-interrupted, .progress-bar-interrupted::-webkit-progress-bar {\n",
       "                background: #F44336;\n",
       "            }\n",
       "        </style>\n",
       "      <progress value='119400' class='' max='119400', style='width:300px; height:20px; vertical-align: middle;'></progress>\n",
       "      100.00% [119400/119400 00:06<00:00]\n",
       "    </div>\n",
       "    "
      ],
      "text/plain": [
       "<IPython.core.display.HTML object>"
      ]
     },
     "metadata": {},
     "output_type": "display_data"
    },
    {
     "name": "stdout",
     "output_type": "stream",
     "text": [
      "\n",
      "Assigning voxel to each POCA point:\n"
     ]
    },
    {
     "data": {
      "text/html": [
       "\n",
       "    <div>\n",
       "        <style>\n",
       "            /* Turns off some styling */\n",
       "            progress {\n",
       "                /* gets rid of default border in Firefox and Opera. */\n",
       "                border: none;\n",
       "                /* Needs to be in here for Safari polyfill so background images work as expected. */\n",
       "                background-size: auto;\n",
       "            }\n",
       "            .progress-bar-interrupted, .progress-bar-interrupted::-webkit-progress-bar {\n",
       "                background: #F44336;\n",
       "            }\n",
       "        </style>\n",
       "      <progress value='119400' class='' max='119400', style='width:300px; height:20px; vertical-align: middle;'></progress>\n",
       "      100.00% [119400/119400 00:33<00:00]\n",
       "    </div>\n",
       "    "
      ],
      "text/plain": [
       "<IPython.core.display.HTML object>"
      ]
     },
     "metadata": {},
     "output_type": "display_data"
    },
    {
     "name": "stdout",
     "output_type": "stream",
     "text": [
      "DONE\n",
      "\n",
      "Tracking in progress\n"
     ]
    },
    {
     "name": "stderr",
     "output_type": "stream",
     "text": [
      "/home/geant/Desktop/MST_framework/Muograph/dev/../muograph/reconstruction/POCA.py:190: UserWarning: An output with one or more elements was resized since it had shape [119400, 3], which does not match the required output shape [119401, 3]. This behavior is deprecated, and in a future PyTorch release outputs will not be resized unless they have zero elements. You can explicitly reuse an out tensor t by resizing it, inplace, to zero elements with t.resize_(0). (Triggered internally at /opt/conda/conda-bld/pytorch_1670525495809/work/aten/src/ATen/native/Resize.cpp:17.)\n",
      "  torch.cat(indices_list,out=indices_tensor)\n"
     ]
    },
    {
     "data": {
      "text/html": [
       "\n",
       "    <div>\n",
       "        <style>\n",
       "            /* Turns off some styling */\n",
       "            progress {\n",
       "                /* gets rid of default border in Firefox and Opera. */\n",
       "                border: none;\n",
       "                /* Needs to be in here for Safari polyfill so background images work as expected. */\n",
       "                background-size: auto;\n",
       "            }\n",
       "            .progress-bar-interrupted, .progress-bar-interrupted::-webkit-progress-bar {\n",
       "                background: #F44336;\n",
       "            }\n",
       "        </style>\n",
       "      <progress value='119400' class='' max='119400', style='width:300px; height:20px; vertical-align: middle;'></progress>\n",
       "      100.00% [119400/119400 00:57<00:00]\n",
       "    </div>\n",
       "    "
      ],
      "text/plain": [
       "<IPython.core.display.HTML object>"
      ]
     },
     "metadata": {},
     "output_type": "display_data"
    },
    {
     "name": "stdout",
     "output_type": "stream",
     "text": [
      "Tracking done\n",
      "Scattering angles computation done\n",
      "\n",
      "Total # event =  119400\n",
      "# event after removing low theta events =  119400\n"
     ]
    },
    {
     "data": {
      "text/html": [
       "\n",
       "    <div>\n",
       "        <style>\n",
       "            /* Turns off some styling */\n",
       "            progress {\n",
       "                /* gets rid of default border in Firefox and Opera. */\n",
       "                border: none;\n",
       "                /* Needs to be in here for Safari polyfill so background images work as expected. */\n",
       "                background-size: auto;\n",
       "            }\n",
       "            .progress-bar-interrupted, .progress-bar-interrupted::-webkit-progress-bar {\n",
       "                background: #F44336;\n",
       "            }\n",
       "        </style>\n",
       "      <progress value='119400' class='' max='119400', style='width:300px; height:20px; vertical-align: middle;'></progress>\n",
       "      100.00% [119400/119400 00:07<00:00]\n",
       "    </div>\n",
       "    "
      ],
      "text/plain": [
       "<IPython.core.display.HTML object>"
      ]
     },
     "metadata": {},
     "output_type": "display_data"
    },
    {
     "name": "stdout",
     "output_type": "stream",
     "text": [
      "\n",
      "Assigning voxel to each POCA point:\n"
     ]
    },
    {
     "data": {
      "text/html": [
       "\n",
       "    <div>\n",
       "        <style>\n",
       "            /* Turns off some styling */\n",
       "            progress {\n",
       "                /* gets rid of default border in Firefox and Opera. */\n",
       "                border: none;\n",
       "                /* Needs to be in here for Safari polyfill so background images work as expected. */\n",
       "                background-size: auto;\n",
       "            }\n",
       "            .progress-bar-interrupted, .progress-bar-interrupted::-webkit-progress-bar {\n",
       "                background: #F44336;\n",
       "            }\n",
       "        </style>\n",
       "      <progress value='119400' class='' max='119400', style='width:300px; height:20px; vertical-align: middle;'></progress>\n",
       "      100.00% [119400/119400 00:47<00:00]\n",
       "    </div>\n",
       "    "
      ],
      "text/plain": [
       "<IPython.core.display.HTML object>"
      ]
     },
     "metadata": {},
     "output_type": "display_data"
    },
    {
     "name": "stdout",
     "output_type": "stream",
     "text": [
      "DONE\n"
     ]
    },
    {
     "name": "stderr",
     "output_type": "stream",
     "text": [
      "/home/geant/Desktop/MST_framework/Muograph/dev/../muograph/reconstruction/POCA.py:190: UserWarning: An output with one or more elements was resized since it had shape [119400, 3], which does not match the required output shape [119401, 3]. This behavior is deprecated, and in a future PyTorch release outputs will not be resized unless they have zero elements. You can explicitly reuse an out tensor t by resizing it, inplace, to zero elements with t.resize_(0). (Triggered internally at /opt/conda/conda-bld/pytorch_1670525495809/work/aten/src/ATen/native/Resize.cpp:17.)\n",
      "  torch.cat(indices_list,out=indices_tensor)\n"
     ]
    }
   ],
   "source": [
    "# Rec POCA\n",
    "from tracking.Tracking import Tracking\n",
    "tracks = Tracking(hits=rec_hits[:,:,total_mask],voi=VOI,E=E[total_mask])\n",
    "\n",
    "from reconstruction.POCA import POCA\n",
    "rec_poca = POCA(tracks=tracks)\n",
    "\n",
    "# true POCA\n",
    "from tracking.Tracking import Tracking\n",
    "tracks = Tracking(hits=hits[:,:,total_mask],voi=VOI,E=E[total_mask])\n",
    "\n",
    "from reconstruction.POCA import POCA\n",
    "true_poca = POCA(tracks=tracks)"
   ]
  },
  {
   "cell_type": "code",
   "execution_count": 23,
   "id": "27b47704",
   "metadata": {},
   "outputs": [
    {
     "data": {
      "image/png": "[encoded data removed]",
      "text/plain": [
       "<Figure size 432x288 with 1 Axes>"
      ]
     },
     "metadata": {
      "needs_background": "light"
     },
     "output_type": "display_data"
    },
    {
     "data": {
      "image/png": "[encoded data removed]",
      "text/plain": [
       "<Figure size 432x288 with 1 Axes>"
      ]
     },
     "metadata": {
      "needs_background": "light"
     },
     "output_type": "display_data"
    },
    {
     "data": {
      "image/png": "[encoded data removed]",
      "text/plain": [
       "<Figure size 432x288 with 1 Axes>"
      ]
     },
     "metadata": {
      "needs_background": "light"
     },
     "output_type": "display_data"
    }
   ],
   "source": [
    "poca_error = true_poca.POCA_points[:]-rec_poca.POCA_points[:]\n",
    "with open(directory+'poca_error_scenario_C','wb') as f:\n",
    "    pickle.dump(poca_error,f)\n",
    "    \n",
    "with open(directory+'poca_error_scenario_C','rb') as f:\n",
    "    poca_error = pickle.load(f)\n",
    "\n",
    "plt.hist(poca_error[:,0],bins=100)\n",
    "plt.show()\n",
    "\n",
    "plt.hist(poca_error[:,1],bins=100)\n",
    "plt.show()\n",
    "\n",
    "plt.hist(poca_error[:,2],bins=100)\n",
    "plt.show()"
   ]
  },
  {
   "cell_type": "markdown",
   "id": "8e49184c",
   "metadata": {},
   "source": [
    "## CONCLUSION\n",
    "\n",
    "NO significative difference was measured! Was about the angular resolution?"
   ]
  },
  {
   "cell_type": "code",
   "execution_count": 41,
   "id": "71b6e9f9",
   "metadata": {},
   "outputs": [
    {
     "name": "stdout",
     "output_type": "stream",
     "text": [
      "\n",
      "Tracking in progress\n"
     ]
    },
    {
     "data": {
      "text/html": [
       "\n",
       "    <div>\n",
       "        <style>\n",
       "            /* Turns off some styling */\n",
       "            progress {\n",
       "                /* gets rid of default border in Firefox and Opera. */\n",
       "                border: none;\n",
       "                /* Needs to be in here for Safari polyfill so background images work as expected. */\n",
       "                background-size: auto;\n",
       "            }\n",
       "            .progress-bar-interrupted, .progress-bar-interrupted::-webkit-progress-bar {\n",
       "                background: #F44336;\n",
       "            }\n",
       "        </style>\n",
       "      <progress value='218501' class='' max='218501', style='width:300px; height:20px; vertical-align: middle;'></progress>\n",
       "      100.00% [218501/218501 01:41<00:00]\n",
       "    </div>\n",
       "    "
      ],
      "text/plain": [
       "<IPython.core.display.HTML object>"
      ]
     },
     "metadata": {},
     "output_type": "display_data"
    },
    {
     "name": "stdout",
     "output_type": "stream",
     "text": [
      "Tracking done\n",
      "Scattering angles computation done\n",
      "\n",
      "Tracking in progress\n"
     ]
    },
    {
     "data": {
      "text/html": [
       "\n",
       "    <div>\n",
       "        <style>\n",
       "            /* Turns off some styling */\n",
       "            progress {\n",
       "                /* gets rid of default border in Firefox and Opera. */\n",
       "                border: none;\n",
       "                /* Needs to be in here for Safari polyfill so background images work as expected. */\n",
       "                background-size: auto;\n",
       "            }\n",
       "            .progress-bar-interrupted, .progress-bar-interrupted::-webkit-progress-bar {\n",
       "                background: #F44336;\n",
       "            }\n",
       "        </style>\n",
       "      <progress value='218501' class='' max='218501', style='width:300px; height:20px; vertical-align: middle;'></progress>\n",
       "      100.00% [218501/218501 01:41<00:00]\n",
       "    </div>\n",
       "    "
      ],
      "text/plain": [
       "<IPython.core.display.HTML object>"
      ]
     },
     "metadata": {},
     "output_type": "display_data"
    },
    {
     "name": "stdout",
     "output_type": "stream",
     "text": [
      "Tracking done\n",
      "Scattering angles computation done\n"
     ]
    }
   ],
   "source": [
    "from volume.Volume_Interest import VolumeInterest\n",
    "VOI = VolumeInterest(position = [0,0,1000],dimension=[1000,1000,600],voxel_width=20)\n",
    "\n",
    "# Load true hits\n",
    "from utils.read_file import hits_csv_to_tensor\n",
    "hits,E = hits_csv_to_tensor(filename='poca_uncertainty_and_detector_z_placement/scenario1_200k_events.csv')\n",
    "\n",
    "# Compute reconstructed hits based on resolution\n",
    "res = 5 #mm\n",
    "rec_hits = torch.ones_like(hits)\n",
    "rec_hits[:-1,:,:] = hits[:-1,:,:]+torch.normal(0,res,hits[:-1,:,:].size())\n",
    "rec_hits[-1] = hits[-1]\n",
    "\n",
    "import pickle\n",
    "with open(directory+'rec_hits_scenario_C','wb') as f:\n",
    "    pickle.dump(rec_hits,f)\n",
    "\n",
    "with open(directory+'rec_hits_scenario_C','rb') as f:\n",
    "    rec_hits = pickle.load(f)\n",
    "\n",
    "# Rec POCA\n",
    "from tracking.Tracking import Tracking\n",
    "rec_tracks = Tracking(hits=rec_hits,voi=VOI,E=E)\n",
    "\n",
    "\n",
    "# True POCA\n",
    "from tracking.Tracking import Tracking\n",
    "tracks = Tracking(hits=hits,voi=VOI,E=E)\n"
   ]
  },
  {
   "cell_type": "code",
   "execution_count": 43,
   "id": "b4814770",
   "metadata": {},
   "outputs": [
    {
     "name": "stdout",
     "output_type": "stream",
     "text": [
      "\n",
      "Tracking in progress\n"
     ]
    },
    {
     "data": {
      "text/html": [
       "\n",
       "    <div>\n",
       "        <style>\n",
       "            /* Turns off some styling */\n",
       "            progress {\n",
       "                /* gets rid of default border in Firefox and Opera. */\n",
       "                border: none;\n",
       "                /* Needs to be in here for Safari polyfill so background images work as expected. */\n",
       "                background-size: auto;\n",
       "            }\n",
       "            .progress-bar-interrupted, .progress-bar-interrupted::-webkit-progress-bar {\n",
       "                background: #F44336;\n",
       "            }\n",
       "        </style>\n",
       "      <progress value='217319' class='' max='217319', style='width:300px; height:20px; vertical-align: middle;'></progress>\n",
       "      100.00% [217319/217319 01:40<00:00]\n",
       "    </div>\n",
       "    "
      ],
      "text/plain": [
       "<IPython.core.display.HTML object>"
      ]
     },
     "metadata": {},
     "output_type": "display_data"
    },
    {
     "name": "stdout",
     "output_type": "stream",
     "text": [
      "Tracking done\n",
      "Scattering angles computation done\n",
      "\n",
      "Tracking in progress\n"
     ]
    },
    {
     "data": {
      "text/html": [
       "\n",
       "    <div>\n",
       "        <style>\n",
       "            /* Turns off some styling */\n",
       "            progress {\n",
       "                /* gets rid of default border in Firefox and Opera. */\n",
       "                border: none;\n",
       "                /* Needs to be in here for Safari polyfill so background images work as expected. */\n",
       "                background-size: auto;\n",
       "            }\n",
       "            .progress-bar-interrupted, .progress-bar-interrupted::-webkit-progress-bar {\n",
       "                background: #F44336;\n",
       "            }\n",
       "        </style>\n",
       "      <progress value='217319' class='' max='217319', style='width:300px; height:20px; vertical-align: middle;'></progress>\n",
       "      100.00% [217319/217319 01:40<00:00]\n",
       "    </div>\n",
       "    "
      ],
      "text/plain": [
       "<IPython.core.display.HTML object>"
      ]
     },
     "metadata": {},
     "output_type": "display_data"
    },
    {
     "name": "stdout",
     "output_type": "stream",
     "text": [
      "Tracking done\n",
      "Scattering angles computation done\n"
     ]
    }
   ],
   "source": [
    "from volume.Volume_Interest import VolumeInterest\n",
    "VOI = VolumeInterest(position = [0,0,1000],dimension=[1000,1000,600],voxel_width=20)\n",
    "\n",
    "# Load true hits\n",
    "from utils.read_file import hits_csv_to_tensor\n",
    "hits,E = hits_csv_to_tensor(filename='poca_uncertainty_and_detector_z_placement/scenario2_200k_events.csv')\n",
    "\n",
    "# Compute reconstructed hits based on resolution\n",
    "res = 5 #mm\n",
    "rec_hits = torch.ones_like(hits)\n",
    "rec_hits[:-1,:,:] = hits[:-1,:,:]+torch.normal(0,res,hits[:-1,:,:].size())\n",
    "rec_hits[-1] = hits[-1]\n",
    "\n",
    "import pickle\n",
    "with open(directory+'rec_hits_scenario_B','wb') as f:\n",
    "    pickle.dump(rec_hits,f)\n",
    "\n",
    "with open(directory+'rec_hits_scenario_B','rb') as f:\n",
    "    rec_hits = pickle.load(f)\n",
    "\n",
    "# Rec POCA\n",
    "from tracking.Tracking import Tracking\n",
    "rec_tracks_b = Tracking(hits=rec_hits,voi=VOI,E=E)\n",
    "\n",
    "\n",
    "# True POCA\n",
    "from tracking.Tracking import Tracking\n",
    "tracks_b = Tracking(hits=hits,voi=VOI,E=E)\n"
   ]
  },
  {
   "cell_type": "code",
   "execution_count": 44,
   "id": "1aeb822b",
   "metadata": {},
   "outputs": [
    {
     "name": "stdout",
     "output_type": "stream",
     "text": [
      "\n",
      "Tracking in progress\n"
     ]
    },
    {
     "data": {
      "text/html": [
       "\n",
       "    <div>\n",
       "        <style>\n",
       "            /* Turns off some styling */\n",
       "            progress {\n",
       "                /* gets rid of default border in Firefox and Opera. */\n",
       "                border: none;\n",
       "                /* Needs to be in here for Safari polyfill so background images work as expected. */\n",
       "                background-size: auto;\n",
       "            }\n",
       "            .progress-bar-interrupted, .progress-bar-interrupted::-webkit-progress-bar {\n",
       "                background: #F44336;\n",
       "            }\n",
       "        </style>\n",
       "      <progress value='216955' class='' max='216955', style='width:300px; height:20px; vertical-align: middle;'></progress>\n",
       "      100.00% [216955/216955 01:40<00:00]\n",
       "    </div>\n",
       "    "
      ],
      "text/plain": [
       "<IPython.core.display.HTML object>"
      ]
     },
     "metadata": {},
     "output_type": "display_data"
    },
    {
     "name": "stdout",
     "output_type": "stream",
     "text": [
      "Tracking done\n",
      "Scattering angles computation done\n",
      "\n",
      "Tracking in progress\n"
     ]
    },
    {
     "data": {
      "text/html": [
       "\n",
       "    <div>\n",
       "        <style>\n",
       "            /* Turns off some styling */\n",
       "            progress {\n",
       "                /* gets rid of default border in Firefox and Opera. */\n",
       "                border: none;\n",
       "                /* Needs to be in here for Safari polyfill so background images work as expected. */\n",
       "                background-size: auto;\n",
       "            }\n",
       "            .progress-bar-interrupted, .progress-bar-interrupted::-webkit-progress-bar {\n",
       "                background: #F44336;\n",
       "            }\n",
       "        </style>\n",
       "      <progress value='216955' class='' max='216955', style='width:300px; height:20px; vertical-align: middle;'></progress>\n",
       "      100.00% [216955/216955 01:41<00:00]\n",
       "    </div>\n",
       "    "
      ],
      "text/plain": [
       "<IPython.core.display.HTML object>"
      ]
     },
     "metadata": {},
     "output_type": "display_data"
    },
    {
     "name": "stdout",
     "output_type": "stream",
     "text": [
      "Tracking done\n",
      "Scattering angles computation done\n"
     ]
    }
   ],
   "source": [
    "from volume.Volume_Interest import VolumeInterest\n",
    "VOI = VolumeInterest(position = [0,0,1000],dimension=[1000,1000,600],voxel_width=20)\n",
    "\n",
    "# Load true hits\n",
    "from utils.read_file import hits_csv_to_tensor\n",
    "hits,E = hits_csv_to_tensor(filename='poca_uncertainty_and_detector_z_placement/scenario3_200k_events.csv')\n",
    "\n",
    "# Compute reconstructed hits based on resolution\n",
    "res = 5 #mm\n",
    "rec_hits = torch.ones_like(hits)\n",
    "rec_hits[:-1,:,:] = hits[:-1,:,:]+torch.normal(0,res,hits[:-1,:,:].size())\n",
    "rec_hits[-1] = hits[-1]\n",
    "\n",
    "import pickle\n",
    "with open(directory+'rec_hits_scenario_A','wb') as f:\n",
    "    pickle.dump(rec_hits,f)\n",
    "\n",
    "with open(directory+'rec_hits_scenario_A','rb') as f:\n",
    "    rec_hits = pickle.load(f)\n",
    "\n",
    "# Rec POCA\n",
    "from tracking.Tracking import Tracking\n",
    "rec_tracks_a = Tracking(hits=rec_hits,voi=VOI,E=E)\n",
    "\n",
    "\n",
    "# True POCA\n",
    "from tracking.Tracking import Tracking\n",
    "tracks_a = Tracking(hits=hits,voi=VOI,E=E)\n"
   ]
  },
  {
   "cell_type": "code",
   "execution_count": 53,
   "id": "c5b45b60",
   "metadata": {},
   "outputs": [
    {
     "data": {
      "image/png": "[encoded data removed]",
      "text/plain": [
       "<Figure size 432x288 with 1 Axes>"
      ]
     },
     "metadata": {
      "needs_background": "light"
     },
     "output_type": "display_data"
    }
   ],
   "source": [
    "import math\n",
    "\n",
    "error_theta_C = (rec_tracks.theta_in - tracks.theta_in)*180/math.pi\n",
    "error_theta_B = (rec_tracks_b.theta_in - tracks_b.theta_in)*180/math.pi\n",
    "error_theta_A = (rec_tracks_a.theta_in - tracks_a.theta_in)*180/math.pi\n",
    "\n",
    "fig,ax=plt.subplots()\n",
    "ax.hist(abs(error_theta_A),bins=100,range=(0,6),log=True,alpha=.2,\n",
    "        label=r\"$\\sigma_A = ${:.2f}\".format(error_theta_A.std()))\n",
    "ax.hist(abs(error_theta_B),bins=100,range=(0,6),log=True,alpha=.2,\n",
    "        label=r\"$\\sigma_B = ${:.2f}\".format(error_theta_B.std()))\n",
    "ax.hist(abs(error_theta_C),bins=100,range=(0,6),log=True,alpha=.2,\n",
    "        label=r\"$\\sigma_C = ${:.2f}\".format(error_theta_C.std()))\n",
    "ax.legend()\n",
    "ax.set_xlabel(\"Tracks angular error [deg]\")\n",
    "plt.savefig(\"/home/geant/Desktop/MST_framework/Muograph/images/Error_on_tracking_as_f_det_z_placement\")\n",
    "plt.show()"
   ]
  },
  {
   "cell_type": "code",
   "execution_count": 45,
   "id": "efaf1ba2",
   "metadata": {},
   "outputs": [
    {
     "name": "stdout",
     "output_type": "stream",
     "text": [
      "\n",
      "Tracking in progress\n"
     ]
    },
    {
     "data": {
      "text/html": [
       "\n",
       "    <div>\n",
       "        <style>\n",
       "            /* Turns off some styling */\n",
       "            progress {\n",
       "                /* gets rid of default border in Firefox and Opera. */\n",
       "                border: none;\n",
       "                /* Needs to be in here for Safari polyfill so background images work as expected. */\n",
       "                background-size: auto;\n",
       "            }\n",
       "            .progress-bar-interrupted, .progress-bar-interrupted::-webkit-progress-bar {\n",
       "                background: #F44336;\n",
       "            }\n",
       "        </style>\n",
       "      <progress value='216955' class='' max='216955', style='width:300px; height:20px; vertical-align: middle;'></progress>\n",
       "      100.00% [216955/216955 01:42<00:00]\n",
       "    </div>\n",
       "    "
      ],
      "text/plain": [
       "<IPython.core.display.HTML object>"
      ]
     },
     "metadata": {},
     "output_type": "display_data"
    },
    {
     "name": "stdout",
     "output_type": "stream",
     "text": [
      "Tracking done\n",
      "Scattering angles computation done\n",
      "\n",
      "Tracking in progress\n"
     ]
    },
    {
     "data": {
      "text/html": [
       "\n",
       "    <div>\n",
       "        <style>\n",
       "            /* Turns off some styling */\n",
       "            progress {\n",
       "                /* gets rid of default border in Firefox and Opera. */\n",
       "                border: none;\n",
       "                /* Needs to be in here for Safari polyfill so background images work as expected. */\n",
       "                background-size: auto;\n",
       "            }\n",
       "            .progress-bar-interrupted, .progress-bar-interrupted::-webkit-progress-bar {\n",
       "                background: #F44336;\n",
       "            }\n",
       "        </style>\n",
       "      <progress value='216955' class='' max='216955', style='width:300px; height:20px; vertical-align: middle;'></progress>\n",
       "      100.00% [216955/216955 01:51<00:00]\n",
       "    </div>\n",
       "    "
      ],
      "text/plain": [
       "<IPython.core.display.HTML object>"
      ]
     },
     "metadata": {},
     "output_type": "display_data"
    },
    {
     "name": "stdout",
     "output_type": "stream",
     "text": [
      "Tracking done\n",
      "Scattering angles computation done\n"
     ]
    }
   ],
   "source": [
    "from volume.Volume_Interest import VolumeInterest\n",
    "VOI = VolumeInterest(position = [0,0,1000],dimension=[1000,1000,600],voxel_width=20)\n",
    "\n",
    "# Load true hits\n",
    "from utils.read_file import hits_csv_to_tensor\n",
    "hits,E = hits_csv_to_tensor(filename='poca_uncertainty_and_detector_z_placement/scenario3_200k_events.csv')\n",
    "\n",
    "# Compute reconstructed hits based on resolution\n",
    "res = 5 #mm\n",
    "rec_hits = torch.ones_like(hits)\n",
    "rec_hits[:-1,:,:] = hits[:-1,:,:]+torch.normal(0,res,hits[:-1,:,:].size())\n",
    "rec_hits[-1] = hits[-1]\n",
    "\n",
    "import pickle\n",
    "with open(directory+'rec_hits_scenario_A','wb') as f:\n",
    "    pickle.dump(rec_hits,f)\n",
    "\n",
    "with open(directory+'rec_hits_scenario_A','rb') as f:\n",
    "    rec_hits = pickle.load(f)\n",
    "\n",
    "# Rec POCA\n",
    "from tracking.Tracking import Tracking\n",
    "rec_tracks_A = Tracking(hits=rec_hits,voi=VOI,E=E)\n",
    "\n",
    "\n",
    "# True POCA\n",
    "from tracking.Tracking import Tracking\n",
    "tracks_A = Tracking(hits=hits,voi=VOI,E=E)\n"
   ]
  },
  {
   "cell_type": "code",
   "execution_count": 51,
   "id": "f3adfb77",
   "metadata": {},
   "outputs": [
    {
     "data": {
      "image/png": "[encoded data removed]",
      "text/plain": [
       "<Figure size 432x288 with 1 Axes>"
      ]
     },
     "metadata": {
      "needs_background": "light"
     },
     "output_type": "display_data"
    }
   ],
   "source": [
    "error_theta_A = rec_tracks_A.theta_in - tracks_A.theta_in\n",
    "\n",
    "plt.hist(error_theta_C,bins=100,range=(-.1,.1))\n",
    "plt.hist(error_theta_A,bins=100,range=(-.1,.1))\n",
    "plt.show()"
   ]
  },
  {
   "cell_type": "code",
   "execution_count": 37,
   "id": "cf414912",
   "metadata": {},
   "outputs": [
    {
     "data": {
      "image/png": "[encoded data removed]",
      "text/plain": [
       "<Figure size 1296x360 with 3 Axes>"
      ]
     },
     "metadata": {
      "needs_background": "light"
     },
     "output_type": "display_data"
    }
   ],
   "source": [
    "import pickle\n",
    "directory = '../data/poca_uncertainty_and_detector_z_placement/'\n",
    "\n",
    "# Scenario A\n",
    "with open(directory+'poca_error_scenario_A','rb') as f:\n",
    "    poca_error_A = pickle.load(f)\n",
    "\n",
    "# Scenario B\n",
    "with open(directory+'poca_error_scenario_B','rb') as f:\n",
    "    poca_error_B = pickle.load(f)\n",
    "    \n",
    "# Scenario C\n",
    "with open(directory+'poca_error_scenario_C','rb') as f:\n",
    "    poca_error_C = pickle.load(f)\n",
    "    \n",
    "fig,ax = plt.subplots(ncols=3,figsize=(18,5),constrained_layout=True)\n",
    "fig.suptitle(\"Error on POCA point coordinate \\nas a function of detector z placement\",va=\"top\")\n",
    "rx0, rx,rz0,rz=0,400,0,700\n",
    "alpha=.2\n",
    "ax[0].set_title(\"Error on POCA x coordinate\")\n",
    "ax[0].hist(poca_error_A[:,0].abs(),bins=100,range=(-rx0,rx),alpha=alpha,log=True,\n",
    "           label=r'$\\sigma_A = {:.2f}$'.format(poca_error_A[:,0].std()))\n",
    "ax[0].hist(poca_error_B[:,0].abs(),bins=100,range=(-rx0,rx),alpha=alpha,log=True,\n",
    "           label=r'$\\sigma_B = {:.2f}$'.format(poca_error_B[:,0].std()))\n",
    "ax[0].hist(poca_error_C[:,0].abs(),bins=100,range=(-rx0,rx),alpha=alpha,log=True,\n",
    "           label=r'$\\sigma_C = {:.2f}$'.format(poca_error_C[:,0].std()))\n",
    "ax[0].legend()\n",
    "ax[0].set_xlabel(r\"$x$ error [mm]\")\n",
    "\n",
    "ax[1].set_title(\"Error on POCA y coordinate\")\n",
    "ax[1].hist(poca_error_A[:,1].abs(),bins=100,range=(-rx0,rx),alpha=alpha,log=True,\n",
    "           label=r'$\\sigma_A = {:.2f}$'.format(poca_error_A[:,1].std()))\n",
    "ax[1].hist(poca_error_B[:,1].abs(),bins=100,range=(-rx0,rx),alpha=alpha,log=True,\n",
    "           label=r'$\\sigma_B = {:.2f}$'.format(poca_error_B[:,1].std()))\n",
    "ax[1].hist(poca_error_C[:,1].abs(),bins=100,range=(-rx0,rx),alpha=alpha,log=True,\n",
    "           label=r'$\\sigma_C = {:.2f}$'.format(poca_error_C[:,1].std()))\n",
    "ax[1].legend()\n",
    "ax[1].set_xlabel(r\"$y$ error [mm]\")\n",
    "\n",
    "ax[2].set_title(\"Error on POCA z coordinate\")\n",
    "ax[2].hist(poca_error_A[:,2].abs(),bins=100,range=(-rz0,rz),alpha=alpha,log=True,\n",
    "           label=r'$\\sigma_A = {:.2f}$'.format(poca_error_A[:,2].std()))\n",
    "ax[2].hist(poca_error_B[:,2].abs(),bins=100,range=(-rz0,rz),alpha=alpha,log=True,\n",
    "           label=r'$\\sigma_B = {:.2f}$'.format(poca_error_B[:,2].std()))\n",
    "ax[2].hist(poca_error_C[:,2].abs(),bins=100,range=(-rz0,rz),alpha=alpha,log=True,\n",
    "           label=r'$\\sigma_C = {:.2f}$'.format(poca_error_C[:,2].std()))\n",
    "ax[2].legend()\n",
    "ax[2].set_xlabel(r\"$z$ error [mm]\")\n",
    "ax[2].set_xlabel(r\"$z$ error [mm]\")\n",
    "plt.savefig(\"/home/geant/Desktop/MST_framework/Muograph/images/Error_on_POCA_coord_as_f_det_z_placement\")\n",
    "plt.show()\n",
    "\n"
   ]
  },
  {
   "cell_type": "code",
   "execution_count": 54,
   "id": "7ed10be0",
   "metadata": {},
   "outputs": [
    {
     "data": {
      "text/plain": [
       "(tensor(38.3548, dtype=torch.float64),\n",
       " tensor(40.0082, dtype=torch.float64),\n",
       " tensor(40.6108, dtype=torch.float64))"
      ]
     },
     "execution_count": 54,
     "metadata": {},
     "output_type": "execute_result"
    }
   ],
   "source": [
    "poca_error_A[:,0].std(),poca_error_B[:,0].std(),poca_error_C[:,0].std()"
   ]
  },
  {
   "cell_type": "code",
   "execution_count": 55,
   "id": "40a9b546",
   "metadata": {},
   "outputs": [
    {
     "data": {
      "text/plain": [
       "(tensor(38.5372, dtype=torch.float64),\n",
       " tensor(39.8702, dtype=torch.float64),\n",
       " tensor(40.8104, dtype=torch.float64))"
      ]
     },
     "execution_count": 55,
     "metadata": {},
     "output_type": "execute_result"
    }
   ],
   "source": [
    "poca_error_A[:,1].std(),poca_error_B[:,1].std(),poca_error_C[:,1].std()"
   ]
  },
  {
   "cell_type": "code",
   "execution_count": 56,
   "id": "4de83cfe",
   "metadata": {},
   "outputs": [
    {
     "data": {
      "text/plain": [
       "(tensor(147.9563, dtype=torch.float64),\n",
       " tensor(151.6977, dtype=torch.float64),\n",
       " tensor(154.6226, dtype=torch.float64))"
      ]
     },
     "execution_count": 56,
     "metadata": {},
     "output_type": "execute_result"
    }
   ],
   "source": [
    "poca_error_A[:,2].std(),poca_error_B[:,2].std(),poca_error_C[:,2].std()"
   ]
  },
  {
   "cell_type": "code",
   "execution_count": 57,
   "id": "789b5843",
   "metadata": {},
   "outputs": [
    {
     "data": {
      "text/plain": [
       "(0.04307334109429567,\n",
       " -0.055623621661357585,\n",
       " -0.055651317409505,\n",
       " 0.1375,\n",
       " 0.5510695830994463)"
      ]
     },
     "execution_count": 57,
     "metadata": {},
     "output_type": "execute_result"
    }
   ],
   "source": [
    "(154.62-147.96)/154.62, (38.54-40.81)/40.81, (38.35-40.61)/40.61, .165/1.2, math.asin(30*math.pi/180)"
   ]
  }
 ],
 "metadata": {
  "kernelspec": {
   "display_name": "Python 3 (ipykernel)",
   "language": "python",
   "name": "python3"
  },
  "language_info": {
   "codemirror_mode": {
    "name": "ipython",
    "version": 3
   },
   "file_extension": ".py",
   "mimetype": "text/x-python",
   "name": "python",
   "nbconvert_exporter": "python",
   "pygments_lexer": "ipython3",
   "version": "3.9.7"
  }
 },
 "nbformat": 4,
 "nbformat_minor": 5
}
