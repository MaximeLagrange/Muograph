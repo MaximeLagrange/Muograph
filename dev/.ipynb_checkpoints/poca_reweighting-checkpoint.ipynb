{
 "cells": [
  {
   "cell_type": "code",
   "execution_count": 5,
   "id": "94d47eb8",
   "metadata": {},
   "outputs": [],
   "source": [
    "# Usual suspect\n",
    "import pickle\n",
    "import numpy as np\n",
    "import pandas as pd\n",
    "import matplotlib.pyplot as plt\n",
    "import torch\n",
    "import sys\n",
    "import functools\n",
    "import math\n",
    "from fastprogress import progress_bar\n",
    "from typing import List\n",
    "import os\n",
    "sys.path.insert(1, '../muograph/')"
   ]
  },
  {
   "cell_type": "markdown",
   "id": "a6394732-68c3-4e31-ab48-6556455a052d",
   "metadata": {},
   "source": [
    "# POCA re-weighting\n",
    "\n",
    "Ahbishek proposed the following idea: can we re-weight the POCA point using the scattering angle distribution's standard deviation $\\sigma_{\\Delta\\theta}$?\n",
    "\n"
   ]
  },
  {
   "cell_type": "code",
   "execution_count": 6,
   "id": "0d500b83-f4b2-4571-8241-37cbe2a0cee4",
   "metadata": {},
   "outputs": [
    {
     "name": "stdout",
     "output_type": "stream",
     "text": [
      "\n",
      "Tracking in progress\n"
     ]
    },
    {
     "data": {
      "text/html": [
       "\n",
       "    <div>\n",
       "        <style>\n",
       "            /* Turns off some styling */\n",
       "            progress {\n",
       "                /* gets rid of default border in Firefox and Opera. */\n",
       "                border: none;\n",
       "                /* Needs to be in here for Safari polyfill so background images work as expected. */\n",
       "                background-size: auto;\n",
       "            }\n",
       "            .progress-bar-interrupted, .progress-bar-interrupted::-webkit-progress-bar {\n",
       "                background: #F44336;\n",
       "            }\n",
       "        </style>\n",
       "      <progress value='100000' class='' max='100000' style='width:300px; height:20px; vertical-align: middle;'></progress>\n",
       "      100.00% [100000/100000 00:45<00:00]\n",
       "    </div>\n",
       "    "
      ],
      "text/plain": [
       "<IPython.core.display.HTML object>"
      ]
     },
     "metadata": {},
     "output_type": "display_data"
    },
    {
     "name": "stdout",
     "output_type": "stream",
     "text": [
      "Tracking done\n",
      "Scattering angles computation done\n",
      "\n",
      "Total # event =  100000\n",
      "# event after removing low theta events =  42742\n"
     ]
    },
    {
     "data": {
      "text/html": [
       "\n",
       "    <div>\n",
       "        <style>\n",
       "            /* Turns off some styling */\n",
       "            progress {\n",
       "                /* gets rid of default border in Firefox and Opera. */\n",
       "                border: none;\n",
       "                /* Needs to be in here for Safari polyfill so background images work as expected. */\n",
       "                background-size: auto;\n",
       "            }\n",
       "            .progress-bar-interrupted, .progress-bar-interrupted::-webkit-progress-bar {\n",
       "                background: #F44336;\n",
       "            }\n",
       "        </style>\n",
       "      <progress value='42742' class='' max='42742' style='width:300px; height:20px; vertical-align: middle;'></progress>\n",
       "      100.00% [42742/42742 00:07<00:00]\n",
       "    </div>\n",
       "    "
      ],
      "text/plain": [
       "<IPython.core.display.HTML object>"
      ]
     },
     "metadata": {},
     "output_type": "display_data"
    },
    {
     "name": "stdout",
     "output_type": "stream",
     "text": [
      "\n",
      "Assigning voxel to each POCA point:\n"
     ]
    },
    {
     "data": {
      "text/html": [
       "\n",
       "    <div>\n",
       "        <style>\n",
       "            /* Turns off some styling */\n",
       "            progress {\n",
       "                /* gets rid of default border in Firefox and Opera. */\n",
       "                border: none;\n",
       "                /* Needs to be in here for Safari polyfill so background images work as expected. */\n",
       "                background-size: auto;\n",
       "            }\n",
       "            .progress-bar-interrupted, .progress-bar-interrupted::-webkit-progress-bar {\n",
       "                background: #F44336;\n",
       "            }\n",
       "        </style>\n",
       "      <progress value='32523' class='' max='32523' style='width:300px; height:20px; vertical-align: middle;'></progress>\n",
       "      100.00% [32523/32523 00:05<00:00]\n",
       "    </div>\n",
       "    "
      ],
      "text/plain": [
       "<IPython.core.display.HTML object>"
      ]
     },
     "metadata": {},
     "output_type": "display_data"
    },
    {
     "name": "stdout",
     "output_type": "stream",
     "text": [
      "DONE\n"
     ]
    }
   ],
   "source": [
    "from volume.Volume_Interest import VolumeInterest\n",
    "VOI = VolumeInterest(position = [0,0,835],dimension=[400,1000,300],voxel_width=20)\n",
    "\n",
    "from analysis.analysis import analysis\n",
    "my_analysis = analysis(VOI=VOI,\n",
    "                       compute_tracks=True,\n",
    "                       n_event=100000,\n",
    "                       input_dir = \"../data/MuoscopeStatue_4Scale_1-2-2016_5M_Bronze_Scattering/G4_data/\",\n",
    "                       output_dir = \"../data/MuoscopeStatue_4Scale_1-2-2016_5M_Bronze_Scattering/test_10k/\")\n",
    "\n",
    "my_analysis.poca_setup()"
   ]
  },
  {
   "cell_type": "markdown",
   "id": "b1112404-a9b9-4c00-bef3-a64451d87f27",
   "metadata": {},
   "source": [
    "## 1 - Score list\n",
    "\n",
    "Score list is list which will host the scattering angles of pocas within each voxel. It is a nested list with size (Nx,Ny,Nz,Npoca) where Ni is the number of voxels along the i direction and Npoca the number of poca points within the voxel i,j,k."
   ]
  },
  {
   "cell_type": "code",
   "execution_count": 17,
   "id": "488ea81a-5106-45ed-bfe6-502d79f521c3",
   "metadata": {},
   "outputs": [
    {
     "data": {
      "text/plain": [
       "(20, 50, 50)"
      ]
     },
     "execution_count": 17,
     "metadata": {},
     "output_type": "execute_result"
    }
   ],
   "source": [
    "score_list = torch.zeros((VOI.n_vox_xyz[0],\n",
    "                                 VOI.n_vox_xyz[1],\n",
    "                                 VOI.n_vox_xyz[2])).tolist()\n",
    "\n",
    "for i in range(VOI.n_vox_xyz[0]):\n",
    "    for j in range(VOI.n_vox_xyz[1]):\n",
    "        for k in range(VOI.n_vox_xyz[2]):\n",
    "            score_list[i][j][k]=[]\n",
    "            \n",
    "len(score_list), len(score_list[0]), len(score_list[1])"
   ]
  },
  {
   "cell_type": "markdown",
   "id": "1a75f251-dee5-4853-ae63-86af9e1de03b",
   "metadata": {},
   "source": [
    "# 2 - Filling score list\n",
    "\n",
    "For each voxel and each poca point, fill score list. Also computes n_poca_per_vox, the numner of poca points per voxel."
   ]
  },
  {
   "cell_type": "code",
   "execution_count": 18,
   "id": "8353cb37-203b-4ed4-a795-33c65265e3c4",
   "metadata": {},
   "outputs": [],
   "source": [
    "# load POCA if already save\n",
    "poca = my_analysis.load_pickle(\"poca_class\")\n",
    "\n",
    "# run poca if not\n",
    "# my_analysis.poca_setup()"
   ]
  },
  {
   "cell_type": "code",
   "execution_count": 19,
   "id": "edc432c9-2d0c-48a5-863a-2ee31c96c4b6",
   "metadata": {},
   "outputs": [
    {
     "data": {
      "text/html": [
       "\n",
       "    <div>\n",
       "        <style>\n",
       "            /* Turns off some styling */\n",
       "            progress {\n",
       "                /* gets rid of default border in Firefox and Opera. */\n",
       "                border: none;\n",
       "                /* Needs to be in here for Safari polyfill so background images work as expected. */\n",
       "                background-size: auto;\n",
       "            }\n",
       "            .progress-bar-interrupted, .progress-bar-interrupted::-webkit-progress-bar {\n",
       "                background: #F44336;\n",
       "            }\n",
       "        </style>\n",
       "      <progress value='32523' class='' max='32523' style='width:300px; height:20px; vertical-align: middle;'></progress>\n",
       "      100.00% [32523/32523 00:00<00:00]\n",
       "    </div>\n",
       "    "
      ],
      "text/plain": [
       "<IPython.core.display.HTML object>"
      ]
     },
     "metadata": {},
     "output_type": "display_data"
    }
   ],
   "source": [
    "from fastprogress import progress_bar\n",
    "for ev in progress_bar(range(len(poca.POCA_points))):\n",
    "    i,j,k = int(poca.indices[ev][0]), int(poca.indices[ev][1]), int(poca.indices[ev][2])\n",
    "    score_list[i][j][k].append(poca.tracks.dtheta[ev])\n",
    "\n",
    "std_voxel_wise = torch.zeros((VOI.n_vox_xyz[0],\n",
    "                                 VOI.n_vox_xyz[1],\n",
    "                                 VOI.n_vox_xyz[2]))\n",
    "\n",
    "n_poca_per_vox = torch.zeros((VOI.n_vox_xyz[0],\n",
    "                                 VOI.n_vox_xyz[1],\n",
    "                                 VOI.n_vox_xyz[2]))"
   ]
  },
  {
   "cell_type": "markdown",
   "id": "3c3bca8a-0819-4e11-b568-e3f730afe108",
   "metadata": {},
   "source": [
    "## 3 - Computing standard deviation\n",
    "\n",
    "For each voxel, compute the standard deviation of the scattering angles, only if the list is not empty."
   ]
  },
  {
   "cell_type": "code",
   "execution_count": 25,
   "id": "b2ef6809-071a-4f4d-a654-c1ea4efcf8ab",
   "metadata": {},
   "outputs": [],
   "source": [
    "for i in range(VOI.n_vox_xyz[0]):\n",
    "    for j in range(VOI.n_vox_xyz[1]):\n",
    "        for k in range(VOI.n_vox_xyz[2]):\n",
    "            \n",
    "            n_poca_per_vox[i,j,k] = len(score_list[i][j][k])\n",
    "            \n",
    "            if(len(score_list[i][j][k])>0):\n",
    "                std_voxel_wise[i,j,k] = np.std(score_list[i][j][k])"
   ]
  },
  {
   "cell_type": "markdown",
   "id": "b146ffe7-3ad8-4d08-8984-d27fbc913403",
   "metadata": {},
   "source": [
    "## 4 - Plot"
   ]
  },
  {
   "cell_type": "code",
   "execution_count": 27,
   "id": "3bd59505-1c21-4636-af1e-974123354a60",
   "metadata": {},
   "outputs": [
    {
     "data": {
      "image/png": "[encoded data removed]",
      "text/plain": [
       "<Figure size 475.2x360 with 2 Axes>"
      ]
     },
     "metadata": {
      "needs_background": "light"
     },
     "output_type": "display_data"
    },
    {
     "data": {
      "image/png": "[encoded data removed]",
      "text/plain": [
       "<Figure size 475.2x360 with 2 Axes>"
      ]
     },
     "metadata": {
      "needs_background": "light"
     },
     "output_type": "display_data"
    },
    {
     "data": {
      "image/png": "[encoded data removed]",
      "text/plain": [
       "<Figure size 475.2x360 with 2 Axes>"
      ]
     },
     "metadata": {
      "needs_background": "light"
     },
     "output_type": "display_data"
    },
    {
     "data": {
      "image/png": "[encoded data removed]",
      "text/plain": [
       "<Figure size 475.2x360 with 2 Axes>"
      ]
     },
     "metadata": {
      "needs_background": "light"
     },
     "output_type": "display_data"
    },
    {
     "data": {
      "image/png": "[encoded data removed]",
      "text/plain": [
       "<Figure size 475.2x360 with 2 Axes>"
      ]
     },
     "metadata": {
      "needs_background": "light"
     },
     "output_type": "display_data"
    },
    {
     "data": {
      "image/png": "[encoded data removed]",
      "text/plain": [
       "<Figure size 475.2x360 with 2 Axes>"
      ]
     },
     "metadata": {
      "needs_background": "light"
     },
     "output_type": "display_data"
    }
   ],
   "source": [
    "def normalize(tens:torch.tensor) -> torch.tensor:\n",
    "    \n",
    "    return (tens - torch.min(tens))/ (torch.max(tens) - torch.min(tens))\n",
    "\n",
    "from plotting.Plotting import plot_VOI_pred\n",
    "\n",
    "# plot_VOI_pred(normalize(std_voxel_wise))\n",
    "plot_VOI_pred(n_poca_per_vox*normalize(std_voxel_wise),filename=\"../data/weighted\")\n",
    "plot_VOI_pred(n_poca_per_vox,filename=\"../data/not_weighted\")"
   ]
  },
  {
   "cell_type": "code",
   "execution_count": 28,
   "id": "21e92258-17dd-4be1-a3df-f9d193039d37",
   "metadata": {},
   "outputs": [
    {
     "data": {
      "image/png": "[encoded data removed]",
      "text/plain": [
       "<Figure size 432x288 with 1 Axes>"
      ]
     },
     "metadata": {
      "needs_background": "light"
     },
     "output_type": "display_data"
    },
    {
     "data": {
      "text/plain": [
       "(18, 0.04919944873538903)"
      ]
     },
     "execution_count": 28,
     "metadata": {},
     "output_type": "execute_result"
    }
   ],
   "source": [
    "my_list = score_list[10][25][8]\n",
    "\n",
    "plt.hist(score_list[10][25][8],bins=100)\n",
    "plt.show()\n",
    "\n",
    "len(score_list[10][25][8]), np.std(score_list[10][25][8])"
   ]
  }
 ],
 "metadata": {
  "kernelspec": {
   "display_name": "Python 3 (ipykernel)",
   "language": "python",
   "name": "python3"
  },
  "language_info": {
   "codemirror_mode": {
    "name": "ipython",
    "version": 3
   },
   "file_extension": ".py",
   "mimetype": "text/x-python",
   "name": "python",
   "nbconvert_exporter": "python",
   "pygments_lexer": "ipython3",
   "version": "3.9.7"
  }
 },
 "nbformat": 4,
 "nbformat_minor": 5
}
