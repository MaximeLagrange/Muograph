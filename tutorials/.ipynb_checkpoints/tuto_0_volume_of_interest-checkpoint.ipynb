{
 "cells": [
  {
   "cell_type": "code",
   "execution_count": 1,
   "id": "70851915",
   "metadata": {},
   "outputs": [],
   "source": [
    "# Usual suspect\n",
    "import numpy as np\n",
    "import pandas as pd\n",
    "import matplotlib.pyplot as plt\n",
    "import torch\n",
    "import sys\n",
    "sys.path.insert(1, '../muograph/')"
   ]
  },
  {
   "cell_type": "markdown",
   "id": "5371dc35",
   "metadata": {},
   "source": [
    "![alternative text](../images/muograph_logo.png)\n",
    "\n",
    "\n",
    "<h1><center>Volume of Interest tutorial</center></h1>\n",
    "\n",
    "The `VolumeInterest` class is used to store and compute attributes of the passive volume to be imaged. For the sake of image reconstruction, the volume of interest has to be discretized (a.k.a voxelized). `VolumeInterest` computes the position of each voxel. It takes as input:\n",
    "\n",
    " - `position:Tuple[float]`, the position of the center of the VOI along x,y,z in mm.\n",
    " - `dimension:Tuple[float]`, the span of the VOI along x,y,z.\n",
    " - `voxel_width:float`, the voxel size in mm. Has to be chosen such that the number of voxels along all direction is an integer."
   ]
  },
  {
   "cell_type": "code",
   "execution_count": 2,
   "id": "b81f24e0",
   "metadata": {},
   "outputs": [],
   "source": [
    "from volume.Volume_Interest import VolumeInterest\n",
    "VOI = VolumeInterest(position = [0,0,835],\n",
    "                     dimension=[600,1000,300],\n",
    "                     voxel_width=20)"
   ]
  },
  {
   "cell_type": "markdown",
   "id": "d9670268-00f7-4c85-a025-dfbcfb1eddcc",
   "metadata": {},
   "source": [
    "When instanciated, the following variables are computed:\n",
    "\n",
    " - `voxel_edges:torch.tensor`, with size (Nx,Ny,Nz,2,3) where Ni is the number of voxels along the i direction. It stores the xyz position of the lower left and upper right corner of every voxel. "
   ]
  },
  {
   "cell_type": "code",
   "execution_count": 8,
   "id": "096c9e33-9244-4d01-bf35-742679f4ce6d",
   "metadata": {},
   "outputs": [
    {
     "name": "stdout",
     "output_type": "stream",
     "text": [
      "Voxel 10,4,3 bottom left corner =  tensor([-100., -420.,  745.])  mm\n",
      "Voxel 10,4,3 upper right corner =  tensor([ -80., -400.,  765.])  mm\n"
     ]
    }
   ],
   "source": [
    "ix,iy,iz = 10,4,3\n",
    "\n",
    "print(\"Voxel {},{},{} bottom left corner = \".format(ix,iy,iz),\n",
    "      VOI.voxel_edges[ix,iy,iz,0,:],\n",
    "      \" mm\")\n",
    "\n",
    "print(\"Voxel {},{},{} upper right corner = \".format(ix,iy,iz),\n",
    "      VOI.voxel_edges[ix,iy,iz,1,:],\n",
    "      \" mm\")"
   ]
  },
  {
   "cell_type": "markdown",
   "id": "dbeb47e4-2ca8-428d-a546-11ba9e011ec1",
   "metadata": {},
   "source": [
    " - `voxel_centers:torch.tensor`, with size (Nx,Ny,Nz,3) where Ni is the number of voxels along the i direction. It stores the xyz position of center of every voxel. "
   ]
  },
  {
   "cell_type": "code",
   "execution_count": 9,
   "id": "0f6d252a-a455-4ff9-a963-d2783f5442a2",
   "metadata": {},
   "outputs": [
    {
     "name": "stdout",
     "output_type": "stream",
     "text": [
      "Voxel 10,4,3 center =  tensor([ -90., -410.,  755.], dtype=torch.float64)  mm\n"
     ]
    }
   ],
   "source": [
    "print(\"Voxel {},{},{} center = \".format(ix,iy,iz),\n",
    "      VOI.voxel_centers[ix,iy,iz,:],\n",
    "      \" mm\")"
   ]
  },
  {
   "cell_type": "markdown",
   "id": "e21a3cd5-4e68-4ff6-970d-c3fd265d8d9d",
   "metadata": {},
   "source": [
    " - `n_vox_xyz:np.ndarray` with size (3), the number of voxels along x,y,z directions"
   ]
  },
  {
   "cell_type": "code",
   "execution_count": 13,
   "id": "344ce578-9d9a-4917-99b9-29e2fe219753",
   "metadata": {},
   "outputs": [
    {
     "name": "stdout",
     "output_type": "stream",
     "text": [
      "# of voxels along x,y,z direction =  [30 50 15]\n"
     ]
    }
   ],
   "source": [
    "print(\"# of voxels along x,y,z direction = \",VOI.n_vox_xyz)"
   ]
  }
 ],
 "metadata": {
  "kernelspec": {
   "display_name": "Python 3 (ipykernel)",
   "language": "python",
   "name": "python3"
  },
  "language_info": {
   "codemirror_mode": {
    "name": "ipython",
    "version": 3
   },
   "file_extension": ".py",
   "mimetype": "text/x-python",
   "name": "python",
   "nbconvert_exporter": "python",
   "pygments_lexer": "ipython3",
   "version": "3.9.7"
  }
 },
 "nbformat": 4,
 "nbformat_minor": 5
}
